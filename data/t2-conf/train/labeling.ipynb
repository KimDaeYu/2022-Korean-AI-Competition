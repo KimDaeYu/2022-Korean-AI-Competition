{
 "cells": [
  {
   "cell_type": "code",
   "execution_count": 31,
   "metadata": {},
   "outputs": [],
   "source": [
    "import pandas as pd"
   ]
  },
  {
   "cell_type": "code",
   "execution_count": 33,
   "metadata": {},
   "outputs": [],
   "source": [
    "t = pd.read_csv('./sentence1.csv')"
   ]
  },
  {
   "cell_type": "code",
   "execution_count": 34,
   "metadata": {},
   "outputs": [],
   "source": [
    "list1 = [] # filename\n",
    "i = 1\n",
    "for filename in os.listdir(\"./train_data/\"):\n",
    "    list1.append(f'idx_{i:06d}'+'.wav')\n",
    "    i += 1"
   ]
  },
  {
   "cell_type": "code",
   "execution_count": null,
   "metadata": {},
   "outputs": [],
   "source": [
    "test =t[:len(list1)]\n",
    "test[\"filename\"] = list1\n",
    "test = test[['filename', 'text']]"
   ]
  },
  {
   "cell_type": "code",
   "execution_count": 36,
   "metadata": {},
   "outputs": [],
   "source": [
    "test.to_csv('./train_label', index=False)"
   ]
  },
  {
   "cell_type": "code",
   "execution_count": 37,
   "metadata": {},
   "outputs": [],
   "source": [
    "t2 = pd.read_csv('./train_label')"
   ]
  },
  {
   "cell_type": "code",
   "execution_count": 38,
   "metadata": {},
   "outputs": [
    {
     "data": {
      "text/html": [
       "<div>\n",
       "<style scoped>\n",
       "    .dataframe tbody tr th:only-of-type {\n",
       "        vertical-align: middle;\n",
       "    }\n",
       "\n",
       "    .dataframe tbody tr th {\n",
       "        vertical-align: top;\n",
       "    }\n",
       "\n",
       "    .dataframe thead th {\n",
       "        text-align: right;\n",
       "    }\n",
       "</style>\n",
       "<table border=\"1\" class=\"dataframe\">\n",
       "  <thead>\n",
       "    <tr style=\"text-align: right;\">\n",
       "      <th></th>\n",
       "      <th>filename</th>\n",
       "      <th>text</th>\n",
       "    </tr>\n",
       "  </thead>\n",
       "  <tbody>\n",
       "    <tr>\n",
       "      <th>0</th>\n",
       "      <td>idx_000001.wav</td>\n",
       "      <td>보고 있는 영상 정지시켜 줘.</td>\n",
       "    </tr>\n",
       "    <tr>\n",
       "      <th>1</th>\n",
       "      <td>idx_000002.wav</td>\n",
       "      <td>다음 주까지 날씨가 어때?</td>\n",
       "    </tr>\n",
       "    <tr>\n",
       "      <th>2</th>\n",
       "      <td>idx_000003.wav</td>\n",
       "      <td>나 대신 점등해 줘.</td>\n",
       "    </tr>\n",
       "    <tr>\n",
       "      <th>3</th>\n",
       "      <td>idx_000004.wav</td>\n",
       "      <td>이번 주 대체로 흐린지 궁금해.</td>\n",
       "    </tr>\n",
       "    <tr>\n",
       "      <th>4</th>\n",
       "      <td>idx_000005.wav</td>\n",
       "      <td>지금 당장 취침등 꺼 줘.</td>\n",
       "    </tr>\n",
       "    <tr>\n",
       "      <th>...</th>\n",
       "      <td>...</td>\n",
       "      <td>...</td>\n",
       "    </tr>\n",
       "    <tr>\n",
       "      <th>994</th>\n",
       "      <td>idx_000995.wav</td>\n",
       "      <td>커피 머신 라떼 모드로 작동 시켜.</td>\n",
       "    </tr>\n",
       "    <tr>\n",
       "      <th>995</th>\n",
       "      <td>idx_000996.wav</td>\n",
       "      <td>내가 설정해 놓은 온도로 맞춰 줘.</td>\n",
       "    </tr>\n",
       "    <tr>\n",
       "      <th>996</th>\n",
       "      <td>idx_000997.wav</td>\n",
       "      <td>성북구에서 우리 집까지 교통 상황 체크해.</td>\n",
       "    </tr>\n",
       "    <tr>\n",
       "      <th>997</th>\n",
       "      <td>idx_000998.wav</td>\n",
       "      <td>오디오북 취침 모드 온 해 줘.</td>\n",
       "    </tr>\n",
       "    <tr>\n",
       "      <th>998</th>\n",
       "      <td>idx_000999.wav</td>\n",
       "      <td>지금 차량 얼마나 막혀?</td>\n",
       "    </tr>\n",
       "  </tbody>\n",
       "</table>\n",
       "<p>999 rows × 2 columns</p>\n",
       "</div>"
      ],
      "text/plain": [
       "           filename                     text\n",
       "0    idx_000001.wav         보고 있는 영상 정지시켜 줘.\n",
       "1    idx_000002.wav           다음 주까지 날씨가 어때?\n",
       "2    idx_000003.wav              나 대신 점등해 줘.\n",
       "3    idx_000004.wav        이번 주 대체로 흐린지 궁금해.\n",
       "4    idx_000005.wav           지금 당장 취침등 꺼 줘.\n",
       "..              ...                      ...\n",
       "994  idx_000995.wav      커피 머신 라떼 모드로 작동 시켜.\n",
       "995  idx_000996.wav      내가 설정해 놓은 온도로 맞춰 줘.\n",
       "996  idx_000997.wav  성북구에서 우리 집까지 교통 상황 체크해.\n",
       "997  idx_000998.wav        오디오북 취침 모드 온 해 줘.\n",
       "998  idx_000999.wav            지금 차량 얼마나 막혀?\n",
       "\n",
       "[999 rows x 2 columns]"
      ]
     },
     "execution_count": 38,
     "metadata": {},
     "output_type": "execute_result"
    }
   ],
   "source": [
    "t2"
   ]
  },
  {
   "cell_type": "code",
   "execution_count": null,
   "metadata": {},
   "outputs": [],
   "source": []
  }
 ],
 "metadata": {
  "kernelspec": {
   "display_name": "Python 3.9.7 ('base')",
   "language": "python",
   "name": "python3"
  },
  "language_info": {
   "codemirror_mode": {
    "name": "ipython",
    "version": 3
   },
   "file_extension": ".py",
   "mimetype": "text/x-python",
   "name": "python",
   "nbconvert_exporter": "python",
   "pygments_lexer": "ipython3",
   "version": "3.9.7"
  },
  "orig_nbformat": 4,
  "vscode": {
   "interpreter": {
    "hash": "43ac2c48e4339e75074c516d91b4d1aed7885e0ce6846996e15ef729fba805f3"
   }
  }
 },
 "nbformat": 4,
 "nbformat_minor": 2
}
